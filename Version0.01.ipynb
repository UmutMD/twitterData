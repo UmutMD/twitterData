{
 "cells": [
  {
   "cell_type": "code",
   "execution_count": 3,
   "id": "0d73f995",
   "metadata": {},
   "outputs": [],
   "source": [
    "#Version 0.001\n",
    "#Including libraries to boot up spark and some configs.\n",
    "\n",
    "import findspark\n",
    "findspark.init()\n",
    "findspark.find()\n",
    "import pyspark\n",
    "from pyspark.sql import SparkSession\n",
    "import pyspark.sql.functions as f\n",
    "\n",
    "from pyspark.sql.functions import *\n",
    "from pyspark.sql.types import *\n",
    "from pyspark.context import SparkContext\n",
    "from pyspark.sql.session import SparkSession\n",
    "from pyspark.ml.feature import Tokenizer\n",
    "from pyspark.ml.feature import StopWordsRemover\n",
    "from pyspark.sql.functions import col,from_json\n",
    "from pyspark.sql.types import StructType,StructField, StringType\n",
    "sc = SparkContext('local')\n",
    "spark = SparkSession(sc)\n",
    "\n",
    "#File load\n",
    "df = spark.read.json(\"twitter_small.json\")\n",
    "\n"
   ]
  },
  {
   "cell_type": "code",
   "execution_count": 4,
   "id": "31331193",
   "metadata": {},
   "outputs": [
    {
     "name": "stdout",
     "output_type": "stream",
     "text": [
      "+----+-----+\n",
      "|word|count|\n",
      "+----+-----+\n",
      "|  de| 3114|\n",
      "|  RT| 2236|\n",
      "| het| 1845|\n",
      "| een| 1841|\n",
      "| van| 1803|\n",
      "|  en| 1709|\n",
      "|  in| 1613|\n",
      "|  is| 1598|\n",
      "| dat| 1319|\n",
      "|  je| 1199|\n",
      "|  op| 1020|\n",
      "|  ik| 1015|\n",
      "|niet|  995|\n",
      "|  te|  993|\n",
      "|voor|  924|\n",
      "| met|  908|\n",
      "|    |  850|\n",
      "| die|  800|\n",
      "|zijn|  631|\n",
      "|  er|  623|\n",
      "+----+-----+\n",
      "only showing top 20 rows\n",
      "\n"
     ]
    }
   ],
   "source": [
    "#Getting all the word count in the tweet text\n",
    "\n",
    "df.withColumn('word', f.explode(f.split(f.col(\"full_text\"), ' '))) \\\n",
    "  .groupBy('word') \\\n",
    "  .count() \\\n",
    "  .sort('count', ascending=False) \\\n",
    "  .show()"
   ]
  },
  {
   "cell_type": "code",
   "execution_count": 6,
   "id": "1ae49f63",
   "metadata": {},
   "outputs": [
    {
     "name": "stdout",
     "output_type": "stream",
     "text": [
      "############ Data Cleaning extract:\n",
      "+--------------------+--------------------+\n",
      "|         words_token|         words_clean|\n",
      "+--------------------+--------------------+\n",
      "|[rt, @desiree_lav...|[@desiree_laverne...|\n",
      "|[@wovenwn, @gsbde...|[@wovenwn, @gsbde...|\n",
      "|[barry, atsma, pe...|[barry, atsma, pe...|\n",
      "|[rt, @favv_consum...|[@favv_consument:...|\n",
      "|[@ananninga, @sil...|[@ananninga, @sil...|\n",
      "|[rt, @ohboywhatas...|[@ohboywhatashot:...|\n",
      "|[@mariekehoogwout...|[@mariekehoogwout...|\n",
      "|[rt, @moorkopje2:...|[@moorkopje2:, bi...|\n",
      "|[rt, @leolewin:, ...|[@leolewin:, cens...|\n",
      "|[@st1ucia, ı, can...|[@st1ucia, ı, can...|\n",
      "|[eyeshield, https...|[eyeshield, https...|\n",
      "|[@sintsonja, @pol...|[@sintsonja, @pol...|\n",
      "|[rt, @markdeholla...|[@markdehollander...|\n",
      "|[absoluut, geen, ...|[absoluut, coulan...|\n",
      "|[rt, @seven__:, n...|[@seven__:, neder...|\n",
      "|[rt, @choi_bts2:,...|[@choi_bts2:, jin...|\n",
      "|[rt, @narkobars:,...|[@narkobars:, sho...|\n",
      "|[@12_klisman, wtf...|[@12_klisman, wtf...|\n",
      "|[rt, @vrh_haaglan...|[@vrh_haaglanden:...|\n",
      "|[@nobodysfan1, ge...|[@nobodysfan1, ''...|\n",
      "+--------------------+--------------------+\n",
      "only showing top 20 rows\n",
      "\n"
     ]
    }
   ],
   "source": [
    "#Tokenizer to tokenize full text in the tweet\n",
    "#Dutch stop words defined in remover and transformed into clean dataframe.\n",
    "\n",
    "tokenizer2 = Tokenizer(inputCol=\"full_text\", outputCol=\"words_token\")\n",
    "tokenized = tokenizer2.transform(df).select('full_text','words_token')\n",
    "remover = StopWordsRemover(stopWords=[\"aan\",\"af\",\"al\",\"als\",\"bij\",\"dan\",\"dat\",\"die\",\"dit\",\"een\",\"en\",\"er\",\"had\",\"heb\",\"hem\",\"het\",\"hij\",\"hoe\",\"hun\",\"ik\",\"in\",\"is\",\"je\",\"kan\",\"me\",\"men\",\"met\",\"mij\",\"nog\",\"nu\",\"of\",\"ons\",\"ook\",\"te\",\"tot\",\"uit\",\"van\",\"was\",\"wat\",\"we\",\"wel\",\"wij\",\"zal\",\"ze\",\"zei\",\"zij\",\"zo\",\"zou\",\"aangaande\",\"aangezien\",\"achter\",\"achterna\",\"afgelopen\",\"aldaar\",\"aldus\",\"alhoewel\",\"alias\",\"alle\",\"allebei\",\"alleen\",\"alsnog\",\"altijd\",\"altoos\",\"ander\",\"andere\",\"anders\",\"anderszins\",\"behalve\",\"behoudens\",\"beide\",\"beiden\",\"ben\",\"beneden\",\"bent\",\"bepaald\",\"betreffende\",\"binnen\",\"binnenin\",\"boven\",\"bovenal\",\"bovendien\",\"bovengenoemd\",\"bovenstaand\",\"bovenvermeld\",\"buiten\",\"daar\",\"daarheen\",\"daarin\",\"daarna\",\"daarnet\",\"daarom\",\"daarop\",\"daarvanlangs\",\"de\",\"dikwijls\",\"door\",\"doorgaand\",\"dus\",\"echter\",\"eer\",\"eerdat\",\"eerder\",\"eerlang\",\"eerst\",\"elk\",\"elke\",\"enig\",\"enigszins\",\"enkel\",\"erdoor\",\"even\",\"eveneens\",\"evenwel\",\"gauw\",\"gedurende\",\"geen\",\"gehad\",\"gekund\",\"geleden\",\"gelijk\",\"gemoeten\",\"gemogen\",\"geweest\",\"gewoon\",\"gewoonweg\",\"haar\",\"hadden\",\"hare\",\"hebben\",\"hebt\",\"heeft\",\"hen\",\"hierbeneden\",\"hierboven\",\"hoewel\",\"hunne\",\"ikzelf\",\"inmiddels\",\"inzake\",\"jezelf\",\"jij\",\"jijzelf\",\"jou\",\"jouw\",\"jouwe\",\"juist\",\"jullie\",\"klaar\",\"kon\",\"konden\",\"krachtens\",\"kunnen\",\"kunt\",\"later\",\"liever\",\"maar\",\"mag\",\"meer\",\"mezelf\",\"mijn\",\"mijnent\",\"mijner\",\"mijzelf\",\"misschien\",\"mocht\",\"mochten\",\"moest\",\"moesten\",\"moet\",\"moeten\",\"mogen\",\"na\",\"naar\",\"nadat\",\"net\",\"niet\",\"noch\",\"nogal\",\"ofschoon\",\"om\",\"omdat\",\"omhoog\",\"omlaag\",\"omstreeks\",\"omtrent\",\"omver\",\"onder\",\"ondertussen\",\"ongeveer\",\"onszelf\",\"onze\",\"op\",\"opnieuw\",\"opzij\",\"over\",\"overeind\",\"overigens\",\"pas\",\"precies\",\"reeds\",\"rond\",\"rondom\",\"sedert\",\"sinds\",\"sindsdien\",\"slechts\",\"sommige\",\"spoedig\",\"steeds\",\"tamelijk\",\"tenzij\",\"terwijl\",\"thans\",\"tijdens\",\"toch\",\"toen\",\"toenmaals\",\"toenmalig\",\"totdat\",\"tussen\",\"uitgezonderd\",\"vaakwat\",\"vandaan\",\"vanuit\",\"vanwege\",\"veeleer\",\"verder\",\"vervolgens\",\"vol\",\"volgens\",\"voor\",\"vooraf\",\"vooral\",\"vooralsnog\",\"voorbij\",\"voordat\",\"voordezen\",\"voordien\",\"voorheen\",\"voorop\",\"vooruit\",\"vrij\",\"vroeg\",\"waar\",\"waarom\",\"wanneer\",\"want\",\"waren\",\"weer\",\"weg\",\"wegens\",\"weldra\",\"welk\",\"welke\",\"wie\",\"wiens\",\"wier\",\"wijzelf\",\"zelfs\",\"zichzelf\",\"zijn\",\"zijne\",\"zodra\",\"zonder\",\"zouden\",\"zowat\",\"zulke\",\"zullen\",\"zult\",\"rt\",\"ık\",\"deze\",\"u\",\"via\",\"-\",\"      \"], inputCol='words_token', outputCol='words_clean')\n",
    "data_clean = remover.transform(tokenized).select('words_token', 'words_clean')\n",
    "print('############ Data Cleaning extract:')\n",
    "data_clean.show()\n"
   ]
  },
  {
   "cell_type": "code",
   "execution_count": 7,
   "id": "f926766e",
   "metadata": {},
   "outputs": [
    {
     "name": "stdout",
     "output_type": "stream",
     "text": [
      "############\n",
      "+------+-----+\n",
      "|  word|count|\n",
      "+------+-----+\n",
      "|      | 1982|\n",
      "|  gaat|  241|\n",
      "|mensen|  226|\n",
      "|  goed|  209|\n",
      "| wordt|  203|\n",
      "|  echt|  192|\n",
      "+------+-----+\n",
      "only showing top 6 rows\n",
      "\n"
     ]
    }
   ],
   "source": [
    "#Word usage without stop words.\n",
    "\n",
    "result = data_clean.withColumn('word', f.explode(f.col('words_clean'))) \\\n",
    "  .groupBy('word') \\\n",
    "  .count().sort('count', ascending=False) \\\n",
    "\n",
    "print('############')\n",
    "result.show(6)"
   ]
  },
  {
   "cell_type": "code",
   "execution_count": 66,
   "id": "89a196ac",
   "metadata": {},
   "outputs": [
    {
     "name": "stdout",
     "output_type": "stream",
     "text": [
      "+-------------------+----------+\n",
      "|         created_at|      date|\n",
      "+-------------------+----------+\n",
      "|2020-05-29 15:38:52|2020-05-29|\n",
      "|2020-05-29 15:38:52|2020-05-29|\n",
      "|2020-05-29 15:38:52|2020-05-29|\n",
      "|2020-05-29 15:38:52|2020-05-29|\n",
      "|2020-05-29 15:38:52|2020-05-29|\n",
      "|2020-05-29 15:38:52|2020-05-29|\n",
      "|2020-05-29 15:38:52|2020-05-29|\n",
      "|2020-05-29 15:38:52|2020-05-29|\n",
      "|2020-05-29 15:38:51|2020-05-29|\n",
      "|2020-05-29 15:38:51|2020-05-29|\n",
      "|2020-05-29 15:38:51|2020-05-29|\n",
      "|2020-05-29 15:38:51|2020-05-29|\n",
      "|2020-05-29 15:38:51|2020-05-29|\n",
      "|2020-05-29 15:38:51|2020-05-29|\n",
      "|2020-05-29 15:38:51|2020-05-29|\n",
      "|2020-05-29 15:38:51|2020-05-29|\n",
      "|2020-05-29 15:38:51|2020-05-29|\n",
      "|2020-05-29 15:38:51|2020-05-29|\n",
      "|2020-05-29 15:38:51|2020-05-29|\n",
      "|2020-05-29 15:38:50|2020-05-29|\n",
      "+-------------------+----------+\n",
      "only showing top 20 rows\n",
      "\n"
     ]
    }
   ],
   "source": [
    "#Twitter file doesnt use timestamp format, instead I used string to date get timestamp\n",
    "\n",
    "df.select(col(\"created_at\"),to_date(col(\"created_at\"),\"MM-dd-yyyy\").alias(\"date\")) \\\n",
    "  .show()"
   ]
  },
  {
   "cell_type": "code",
   "execution_count": 11,
   "id": "ec31c03e",
   "metadata": {},
   "outputs": [],
   "source": [
    "from datetime import datetime\n",
    "import pytz\n",
    "from pyspark.sql.functions import udf, to_date, to_utc_timestamp"
   ]
  },
  {
   "cell_type": "code",
   "execution_count": 12,
   "id": "06dafb9b",
   "metadata": {},
   "outputs": [],
   "source": [
    "def getDate(x):\n",
    "    if x is not None:\n",
    "        return str(datetime.strptime(x,'%a %b %d %H:%M:%S +0000 %Y').replace(tzinfo=pytz.UTC).strftime(\"%Y-%m-%d %H:%M:%S\"))\n",
    "    else:\n",
    "        return None\n"
   ]
  },
  {
   "cell_type": "code",
   "execution_count": 13,
   "id": "714d8f39",
   "metadata": {},
   "outputs": [],
   "source": [
    "date_fn = udf(getDate, StringType())\n",
    "\n",
    "## Converting datatype in spark dataframe\n",
    "df = df.withColumn(\"created_at\", to_utc_timestamp(date_fn(\"created_at\"),\"UTC\")) "
   ]
  },
  {
   "cell_type": "code",
   "execution_count": 29,
   "id": "43a7dad3",
   "metadata": {},
   "outputs": [
    {
     "name": "stdout",
     "output_type": "stream",
     "text": [
      "+-------------------+----------+\n",
      "|         created_at|      date|\n",
      "+-------------------+----------+\n",
      "|2020-05-29 15:38:52|2020-05-29|\n",
      "|2020-05-29 15:38:52|2020-05-29|\n",
      "|2020-05-29 15:38:52|2020-05-29|\n",
      "|2020-05-29 15:38:52|2020-05-29|\n",
      "|2020-05-29 15:38:52|2020-05-29|\n",
      "|2020-05-29 15:38:52|2020-05-29|\n",
      "|2020-05-29 15:38:52|2020-05-29|\n",
      "|2020-05-29 15:38:52|2020-05-29|\n",
      "|2020-05-29 15:38:51|2020-05-29|\n",
      "|2020-05-29 15:38:51|2020-05-29|\n",
      "|2020-05-29 15:38:51|2020-05-29|\n",
      "|2020-05-29 15:38:51|2020-05-29|\n",
      "|2020-05-29 15:38:51|2020-05-29|\n",
      "|2020-05-29 15:38:51|2020-05-29|\n",
      "|2020-05-29 15:38:51|2020-05-29|\n",
      "|2020-05-29 15:38:51|2020-05-29|\n",
      "|2020-05-29 15:38:51|2020-05-29|\n",
      "|2020-05-29 15:38:51|2020-05-29|\n",
      "|2020-05-29 15:38:51|2020-05-29|\n",
      "|2020-05-29 15:38:50|2020-05-29|\n",
      "+-------------------+----------+\n",
      "only showing top 20 rows\n",
      "\n"
     ]
    }
   ],
   "source": [
    "df.select(col(\"created_at\"),to_date(col(\"created_at\"),\"MM-dd-yyyy\").alias(\"date\")) \\\n",
    "  .show()\n"
   ]
  },
  {
   "cell_type": "code",
   "execution_count": null,
   "id": "e7943117",
   "metadata": {},
   "outputs": [],
   "source": []
  },
  {
   "cell_type": "code",
   "execution_count": 30,
   "id": "22ed981b",
   "metadata": {},
   "outputs": [
    {
     "name": "stdout",
     "output_type": "stream",
     "text": [
      "+------------+-----------+-------------------+------------------+--------------------+--------------------+--------------+---------+--------------------+----+-------------------+-------------------+-----------------------+---------------------+-------------------------+-------------------+-----------------------+---------------+----+------------+--------------------+------------------+--------------------+-------------------+--------------------+-------------+---------+--------------------+--------------------+---------+--------------------+----------+\n",
      "|contributors|coordinates|         created_at|display_text_range|            entities|   extended_entities|favorite_count|favorited|           full_text| geo|                 id|             id_str|in_reply_to_screen_name|in_reply_to_status_id|in_reply_to_status_id_str|in_reply_to_user_id|in_reply_to_user_id_str|is_quote_status|lang|    metadata|               place|possibly_sensitive|       quoted_status|   quoted_status_id|quoted_status_id_str|retweet_count|retweeted|    retweeted_status|              source|truncated|                user|      date|\n",
      "+------------+-----------+-------------------+------------------+--------------------+--------------------+--------------+---------+--------------------+----+-------------------+-------------------+-----------------------+---------------------+-------------------------+-------------------+-----------------------+---------------+----+------------+--------------------+------------------+--------------------+-------------------+--------------------+-------------+---------+--------------------+--------------------+---------+--------------------+----------+\n",
      "|        null|       null|2020-05-29 15:38:52|           [0, 79]|{[{[21, 39], MyBe...|{[{null, pic.twit...|             0|    false|RT @Desiree_Laver...|null|1266393580223987713|1266393580223987713|                   null|                 null|                     null|               null|                   null|          false|  nl|{nl, recent}|                null|             false|                null|               null|                null|            4|    false|{null, null, Fri ...|<a href=\"http://t...|    false|{false, Sat May 0...|2020-05-29|\n",
      "|        null|       null|2020-05-29 15:38:52|          [20, 25]|{[], null, [], []...|                null|             0|    false|@wovenwn @GSBdest...|null|1266393579817250818|1266393579817250818|                wovenwn|  1266391835670437891|      1266391835670437891|1192172083750604802|    1192172083750604802|          false|  nl|{nl, recent}|                null|              null|                null|               null|                null|            0|    false|                null|<a href=\"http://t...|    false|{false, Thu Jun 1...|2020-05-29|\n",
      "|        null|       null|2020-05-29 15:38:52|           [0, 71]|{[], null, [], [{...|                null|             0|    false|Barry Atsma per o...|null|1266393579209084928|1266393579209084928|                   null|                 null|                     null|               null|                   null|          false|  nl|{nl, recent}|                null|             false|                null|               null|                null|            0|    false|                null|<a href=\"http://t...|    false|{false, Mon Dec 2...|2020-05-29|\n",
      "|        null|       null|2020-05-29 15:38:52|          [0, 140]|{[{[20, 40], prod...|                null|             0|    false|RT @FAVV_Consumen...|null|1266393578244378625|1266393578244378625|                   null|                 null|                     null|               null|                   null|          false|  nl|{nl, recent}|                null|              null|                null|               null|                null|            4|    false|{null, null, Fri ...|<a href=\"http://w...|    false|{false, Sat Oct 1...|2020-05-29|\n",
      "|        null|       null|2020-05-29 15:38:52|         [38, 103]|{[], null, [], []...|                null|             0|    false|@ANanninga @SilSc...|null|1266393578219208705|1266393578219208705|          lawfulhamster|  1266353265572220929|      1266353265572220929|         3152489571|             3152489571|          false|  nl|{nl, recent}|                null|              null|                null|               null|                null|            0|    false|                null|<a href=\"http://t...|    false|{false, Thu Apr 0...|2020-05-29|\n",
      "|        null|       null|2020-05-29 15:38:52|          [0, 140]|{[], null, [], []...|                null|             0|    false|RT @ohboywhatasho...|null|1266393578156236803|1266393578156236803|                   null|                 null|                     null|               null|                   null|          false|  nl|{nl, recent}|                null|              null|                null|               null|                null|            5|    false|{null, null, Fri ...|<a href=\"http://t...|    false|{false, Sun Apr 1...|2020-05-29|\n",
      "|        null|       null|2020-05-29 15:38:52|         [33, 292]|{[], null, [], []...|                null|             0|    false|@mariekehoogwout ...|null|1266393577908772865|1266393577908772865|        mariekehoogwout|  1266391793840590858|      1266391793840590858|           24683063|               24683063|          false|  nl|{nl, recent}|                null|              null|                null|               null|                null|            0|    false|                null|<a href=\"http://t...|    false|{false, Sun Mar 2...|2020-05-29|\n",
      "|        null|       null|2020-05-29 15:38:52|          [0, 122]|{[], null, [], []...|                null|             0|    false|RT @Moorkopje2: B...|null|1266393577707405312|1266393577707405312|                   null|                 null|                     null|               null|                   null|          false|  nl|{nl, recent}|                null|              null|                null|               null|                null|            6|    false|{null, null, Fri ...|<a href=\"http://t...|    false|{false, Tue Mar 2...|2020-05-29|\n",
      "|        null|       null|2020-05-29 15:38:51|          [0, 139]|{[], null, [], []...|                null|             0|    false|RT @leolewin: Cen...|null|1266393575786414080|1266393575786414080|                   null|                 null|                     null|               null|                   null|          false|  nl|{nl, recent}|                null|              null|                null|               null|                null|           13|    false|{null, null, Fri ...|<a href=\"http://t...|    false|{false, Thu Aug 2...|2020-05-29|\n",
      "|        null|       null|2020-05-29 15:38:51|           [9, 30]|{[], null, [], []...|                null|             0|    false|@st1ucia I CANT B...|null|1266393575547379712|1266393575547379712|                st1ucia|  1266391432006455296|      1266391432006455296|1037311338983317504|    1037311338983317504|          false|  nl|{nl, recent}|                null|              null|                null|               null|                null|            0|    false|                null|<a href=\"http://t...|    false|{false, Wed Nov 1...|2020-05-29|\n",
      "|        null|       null|2020-05-29 15:38:51|            [0, 9]|{[], null, [], [{...|                null|             0|    false|Eyeshield https:/...|null|1266393575450972163|1266393575450972163|                   null|                 null|                     null|               null|                   null|           true|  nl|{nl, recent}|                null|             false|{null, null, Fri ...|1266376972621365248| 1266376972621365248|            0|    false|                null|<a href=\"http://t...|    false|{false, Sun Apr 2...|2020-05-29|\n",
      "|        null|       null|2020-05-29 15:38:51|         [98, 176]|{[], null, [], []...|                null|             0|    false|@SintSonja @Polit...|null|1266393575299956736|1266393575299956736|              SintSonja|  1266391165433188353|      1266391165433188353|1109533687522185216|    1109533687522185216|          false|  nl|{nl, recent}|                null|              null|                null|               null|                null|            0|    false|                null|<a href=\"http://t...|    false|{false, Sun Feb 0...|2020-05-29|\n",
      "|        null|       null|2020-05-29 15:38:51|          [0, 139]|{[], null, [], []...|                null|             0|    false|RT @markdeholland...|null|1266393575237079040|1266393575237079040|                   null|                 null|                     null|               null|                   null|          false|  nl|{nl, recent}|                null|              null|                null|               null|                null|          290|    false|{null, null, Fri ...|<a href=\"http://t...|    false|{false, Fri Jul 2...|2020-05-29|\n",
      "|        null|       null|2020-05-29 15:38:51|          [0, 211]|{[{[136, 149], ki...|                null|             0|    false|Absoluut geen cou...|null|1266393574863712256|1266393574863712256|                   null|                 null|                     null|               null|                   null|           true|  nl|{nl, recent}|                null|              true|{null, null, Fri ...|1266362026441359360| 1266362026441359360|            0|    false|                null|<a href=\"http://t...|    false|{false, Sat Jan 3...|2020-05-29|\n",
      "|        null|       null|2020-05-29 15:38:51|          [0, 140]|{[], null, [], []...|                null|             0|    false|RT @seven__: Nede...|null|1266393574842793985|1266393574842793985|                   null|                 null|                     null|               null|                   null|          false|  nl|{nl, recent}|                null|              null|                null|               null|                null|          192|    false|{null, null, Thu ...|<a href=\"http://t...|    false|{false, Sun Mar 2...|2020-05-29|\n",
      "|        null|       null|2020-05-29 15:38:51|          [0, 131]|{[], [{pic.twitte...|{[{null, pic.twit...|             0|    false|RT @choi_bts2: Ji...|null|1266393574158942208|1266393574158942208|                   null|                 null|                     null|               null|                   null|          false|  nl|{nl, recent}|                null|             false|                null|               null|                null|         8288|    false|{null, null, Wed ...|<a href=\"http://t...|    false|{false, Sat May 2...|2020-05-29|\n",
      "|        null|       null|2020-05-29 15:38:51|           [0, 48]|{[], [{pic.twitte...|{[{{null, null, f...|             0|    false|RT @narkobars: Sh...|null|1266393574108585985|1266393574108585985|                   null|                 null|                     null|               null|                   null|          false|  nl|{nl, recent}|                null|             false|                null|               null|                null|          599|    false|{null, null, Fri ...|<a href=\"http://t...|    false|{false, Fri May 0...|2020-05-29|\n",
      "|        null|       null|2020-05-29 15:38:51|          [12, 24]|{[], null, [], []...|                null|             0|    false|@12_klisman wtf U...|null|1266393573852938247|1266393573852938247|             12_klisman|  1266214153775087617|      1266214153775087617| 830584132820410369|     830584132820410369|          false|  nl|{nl, recent}|{{[[[-66.806243, ...|              null|                null|               null|                null|            0|    false|                null|<a href=\"http://t...|    false|{false, Mon Mar 0...|2020-05-29|\n",
      "|        null|       null|2020-05-29 15:38:51|          [0, 140]|{[], null, [], []...|                null|             0|    false|RT @VRH_Haaglande...|null|1266393573806804993|1266393573806804993|                   null|                 null|                     null|               null|                   null|          false|  nl|{nl, recent}|                null|              null|                null|               null|                null|            2|    false|{null, null, Fri ...|<a href=\"https://...|    false|{false, Mon Aug 1...|2020-05-29|\n",
      "|        null|       null|2020-05-29 15:38:50|          [13, 42]|{[], null, [], []...|                null|             0|    false|@Nobodysfan1 Gewo...|null|1266393572972154881|1266393572972154881|            Nobodysfan1|  1266379556111314968|      1266379556111314968|1234985486030196738|    1234985486030196738|          false|  nl|{nl, recent}|                null|              null|                null|               null|                null|            0|    false|                null|<a href=\"https://...|    false|{false, Tue Mar 0...|2020-05-29|\n",
      "+------------+-----------+-------------------+------------------+--------------------+--------------------+--------------+---------+--------------------+----+-------------------+-------------------+-----------------------+---------------------+-------------------------+-------------------+-----------------------+---------------+----+------------+--------------------+------------------+--------------------+-------------------+--------------------+-------------+---------+--------------------+--------------------+---------+--------------------+----------+\n",
      "only showing top 20 rows\n",
      "\n"
     ]
    }
   ],
   "source": [
    "df.withColumn(\"date\", to_date(col(\"created_at\"),\"MM-dd-yyyy\")).show()"
   ]
  },
  {
   "cell_type": "code",
   "execution_count": 33,
   "id": "2bb84cad",
   "metadata": {},
   "outputs": [
    {
     "name": "stdout",
     "output_type": "stream",
     "text": [
      "+------------+-----------+-------------------+------------------+--------------------+--------------------+--------------+---------+--------------------+----+-------------------+-------------------+-----------------------+---------------------+-------------------------+-------------------+-----------------------+---------------+----+------------+--------------------+------------------+--------------------+-------------------+--------------------+-------------+---------+--------------------+--------------------+---------+--------------------+----------+\n",
      "|contributors|coordinates|         created_at|display_text_range|            entities|   extended_entities|favorite_count|favorited|           full_text| geo|                 id|             id_str|in_reply_to_screen_name|in_reply_to_status_id|in_reply_to_status_id_str|in_reply_to_user_id|in_reply_to_user_id_str|is_quote_status|lang|    metadata|               place|possibly_sensitive|       quoted_status|   quoted_status_id|quoted_status_id_str|retweet_count|retweeted|    retweeted_status|              source|truncated|                user|      date|\n",
      "+------------+-----------+-------------------+------------------+--------------------+--------------------+--------------+---------+--------------------+----+-------------------+-------------------+-----------------------+---------------------+-------------------------+-------------------+-----------------------+---------------+----+------------+--------------------+------------------+--------------------+-------------------+--------------------+-------------+---------+--------------------+--------------------+---------+--------------------+----------+\n",
      "|        null|       null|2020-05-29 15:38:52|           [0, 79]|{[{[21, 39], MyBe...|{[{null, pic.twit...|             0|    false|RT @Desiree_Laver...|null|1266393580223987713|1266393580223987713|                   null|                 null|                     null|               null|                   null|          false|  nl|{nl, recent}|                null|             false|                null|               null|                null|            4|    false|{null, null, Fri ...|<a href=\"http://t...|    false|{false, Sat May 0...|2020-05-29|\n",
      "|        null|       null|2020-05-29 15:38:52|          [20, 25]|{[], null, [], []...|                null|             0|    false|@wovenwn @GSBdest...|null|1266393579817250818|1266393579817250818|                wovenwn|  1266391835670437891|      1266391835670437891|1192172083750604802|    1192172083750604802|          false|  nl|{nl, recent}|                null|              null|                null|               null|                null|            0|    false|                null|<a href=\"http://t...|    false|{false, Thu Jun 1...|2020-05-29|\n",
      "|        null|       null|2020-05-29 15:38:52|           [0, 71]|{[], null, [], [{...|                null|             0|    false|Barry Atsma per o...|null|1266393579209084928|1266393579209084928|                   null|                 null|                     null|               null|                   null|          false|  nl|{nl, recent}|                null|             false|                null|               null|                null|            0|    false|                null|<a href=\"http://t...|    false|{false, Mon Dec 2...|2020-05-29|\n",
      "|        null|       null|2020-05-29 15:38:52|          [0, 140]|{[{[20, 40], prod...|                null|             0|    false|RT @FAVV_Consumen...|null|1266393578244378625|1266393578244378625|                   null|                 null|                     null|               null|                   null|          false|  nl|{nl, recent}|                null|              null|                null|               null|                null|            4|    false|{null, null, Fri ...|<a href=\"http://w...|    false|{false, Sat Oct 1...|2020-05-29|\n",
      "|        null|       null|2020-05-29 15:38:52|         [38, 103]|{[], null, [], []...|                null|             0|    false|@ANanninga @SilSc...|null|1266393578219208705|1266393578219208705|          lawfulhamster|  1266353265572220929|      1266353265572220929|         3152489571|             3152489571|          false|  nl|{nl, recent}|                null|              null|                null|               null|                null|            0|    false|                null|<a href=\"http://t...|    false|{false, Thu Apr 0...|2020-05-29|\n",
      "|        null|       null|2020-05-29 15:38:52|          [0, 140]|{[], null, [], []...|                null|             0|    false|RT @ohboywhatasho...|null|1266393578156236803|1266393578156236803|                   null|                 null|                     null|               null|                   null|          false|  nl|{nl, recent}|                null|              null|                null|               null|                null|            5|    false|{null, null, Fri ...|<a href=\"http://t...|    false|{false, Sun Apr 1...|2020-05-29|\n",
      "|        null|       null|2020-05-29 15:38:52|         [33, 292]|{[], null, [], []...|                null|             0|    false|@mariekehoogwout ...|null|1266393577908772865|1266393577908772865|        mariekehoogwout|  1266391793840590858|      1266391793840590858|           24683063|               24683063|          false|  nl|{nl, recent}|                null|              null|                null|               null|                null|            0|    false|                null|<a href=\"http://t...|    false|{false, Sun Mar 2...|2020-05-29|\n",
      "|        null|       null|2020-05-29 15:38:52|          [0, 122]|{[], null, [], []...|                null|             0|    false|RT @Moorkopje2: B...|null|1266393577707405312|1266393577707405312|                   null|                 null|                     null|               null|                   null|          false|  nl|{nl, recent}|                null|              null|                null|               null|                null|            6|    false|{null, null, Fri ...|<a href=\"http://t...|    false|{false, Tue Mar 2...|2020-05-29|\n",
      "|        null|       null|2020-05-29 15:38:51|          [0, 139]|{[], null, [], []...|                null|             0|    false|RT @leolewin: Cen...|null|1266393575786414080|1266393575786414080|                   null|                 null|                     null|               null|                   null|          false|  nl|{nl, recent}|                null|              null|                null|               null|                null|           13|    false|{null, null, Fri ...|<a href=\"http://t...|    false|{false, Thu Aug 2...|2020-05-29|\n",
      "|        null|       null|2020-05-29 15:38:51|           [9, 30]|{[], null, [], []...|                null|             0|    false|@st1ucia I CANT B...|null|1266393575547379712|1266393575547379712|                st1ucia|  1266391432006455296|      1266391432006455296|1037311338983317504|    1037311338983317504|          false|  nl|{nl, recent}|                null|              null|                null|               null|                null|            0|    false|                null|<a href=\"http://t...|    false|{false, Wed Nov 1...|2020-05-29|\n",
      "|        null|       null|2020-05-29 15:38:51|            [0, 9]|{[], null, [], [{...|                null|             0|    false|Eyeshield https:/...|null|1266393575450972163|1266393575450972163|                   null|                 null|                     null|               null|                   null|           true|  nl|{nl, recent}|                null|             false|{null, null, Fri ...|1266376972621365248| 1266376972621365248|            0|    false|                null|<a href=\"http://t...|    false|{false, Sun Apr 2...|2020-05-29|\n",
      "|        null|       null|2020-05-29 15:38:51|         [98, 176]|{[], null, [], []...|                null|             0|    false|@SintSonja @Polit...|null|1266393575299956736|1266393575299956736|              SintSonja|  1266391165433188353|      1266391165433188353|1109533687522185216|    1109533687522185216|          false|  nl|{nl, recent}|                null|              null|                null|               null|                null|            0|    false|                null|<a href=\"http://t...|    false|{false, Sun Feb 0...|2020-05-29|\n",
      "|        null|       null|2020-05-29 15:38:51|          [0, 139]|{[], null, [], []...|                null|             0|    false|RT @markdeholland...|null|1266393575237079040|1266393575237079040|                   null|                 null|                     null|               null|                   null|          false|  nl|{nl, recent}|                null|              null|                null|               null|                null|          290|    false|{null, null, Fri ...|<a href=\"http://t...|    false|{false, Fri Jul 2...|2020-05-29|\n",
      "|        null|       null|2020-05-29 15:38:51|          [0, 211]|{[{[136, 149], ki...|                null|             0|    false|Absoluut geen cou...|null|1266393574863712256|1266393574863712256|                   null|                 null|                     null|               null|                   null|           true|  nl|{nl, recent}|                null|              true|{null, null, Fri ...|1266362026441359360| 1266362026441359360|            0|    false|                null|<a href=\"http://t...|    false|{false, Sat Jan 3...|2020-05-29|\n",
      "|        null|       null|2020-05-29 15:38:51|          [0, 140]|{[], null, [], []...|                null|             0|    false|RT @seven__: Nede...|null|1266393574842793985|1266393574842793985|                   null|                 null|                     null|               null|                   null|          false|  nl|{nl, recent}|                null|              null|                null|               null|                null|          192|    false|{null, null, Thu ...|<a href=\"http://t...|    false|{false, Sun Mar 2...|2020-05-29|\n",
      "|        null|       null|2020-05-29 15:38:51|          [0, 131]|{[], [{pic.twitte...|{[{null, pic.twit...|             0|    false|RT @choi_bts2: Ji...|null|1266393574158942208|1266393574158942208|                   null|                 null|                     null|               null|                   null|          false|  nl|{nl, recent}|                null|             false|                null|               null|                null|         8288|    false|{null, null, Wed ...|<a href=\"http://t...|    false|{false, Sat May 2...|2020-05-29|\n",
      "|        null|       null|2020-05-29 15:38:51|           [0, 48]|{[], [{pic.twitte...|{[{{null, null, f...|             0|    false|RT @narkobars: Sh...|null|1266393574108585985|1266393574108585985|                   null|                 null|                     null|               null|                   null|          false|  nl|{nl, recent}|                null|             false|                null|               null|                null|          599|    false|{null, null, Fri ...|<a href=\"http://t...|    false|{false, Fri May 0...|2020-05-29|\n",
      "|        null|       null|2020-05-29 15:38:51|          [12, 24]|{[], null, [], []...|                null|             0|    false|@12_klisman wtf U...|null|1266393573852938247|1266393573852938247|             12_klisman|  1266214153775087617|      1266214153775087617| 830584132820410369|     830584132820410369|          false|  nl|{nl, recent}|{{[[[-66.806243, ...|              null|                null|               null|                null|            0|    false|                null|<a href=\"http://t...|    false|{false, Mon Mar 0...|2020-05-29|\n",
      "|        null|       null|2020-05-29 15:38:51|          [0, 140]|{[], null, [], []...|                null|             0|    false|RT @VRH_Haaglande...|null|1266393573806804993|1266393573806804993|                   null|                 null|                     null|               null|                   null|          false|  nl|{nl, recent}|                null|              null|                null|               null|                null|            2|    false|{null, null, Fri ...|<a href=\"https://...|    false|{false, Mon Aug 1...|2020-05-29|\n",
      "|        null|       null|2020-05-29 15:38:50|          [13, 42]|{[], null, [], []...|                null|             0|    false|@Nobodysfan1 Gewo...|null|1266393572972154881|1266393572972154881|            Nobodysfan1|  1266379556111314968|      1266379556111314968|1234985486030196738|    1234985486030196738|          false|  nl|{nl, recent}|                null|              null|                null|               null|                null|            0|    false|                null|<a href=\"https://...|    false|{false, Tue Mar 0...|2020-05-29|\n",
      "+------------+-----------+-------------------+------------------+--------------------+--------------------+--------------+---------+--------------------+----+-------------------+-------------------+-----------------------+---------------------+-------------------------+-------------------+-----------------------+---------------+----+------------+--------------------+------------------+--------------------+-------------------+--------------------+-------------+---------+--------------------+--------------------+---------+--------------------+----------+\n",
      "only showing top 20 rows\n",
      "\n"
     ]
    }
   ],
   "source": [
    "#Created a new dataframe with right timeformat\n",
    "\n",
    "\n",
    "df_with_date = df.withColumn(\"date\", to_date(col(\"created_at\"),\"MM-dd-yyyy\"))\n",
    "df_with_date.show()"
   ]
  },
  {
   "cell_type": "code",
   "execution_count": 41,
   "id": "33b06d1c",
   "metadata": {},
   "outputs": [
    {
     "name": "stdout",
     "output_type": "stream",
     "text": [
      "+----------+-----+\n",
      "|      date|count|\n",
      "+----------+-----+\n",
      "|2020-05-29|10000|\n",
      "+----------+-----+\n",
      "\n"
     ]
    }
   ],
   "source": [
    "#total number of tweets in that time slot  10.000 twitter_small. 800.000+ for twitter_big.\n",
    "\n",
    "df_with_date.withColumn('Date', f.explode(f.split(f.col(\"date\"), ' '))) \\\n",
    "  .groupBy('date') \\\n",
    "  .count() \\\n",
    "  .sort('count', ascending=False) \\\n",
    "  .show(200000)\n"
   ]
  },
  {
   "cell_type": "code",
   "execution_count": 42,
   "id": "b01902c9",
   "metadata": {},
   "outputs": [],
   "source": [
    "#merging two dataframe with date and word count\n",
    "\n",
    "merged_df = result.unionByName(df_with_date, allowMissingColumns=True)"
   ]
  },
  {
   "cell_type": "code",
   "execution_count": 44,
   "id": "975a01da",
   "metadata": {},
   "outputs": [
    {
     "name": "stdout",
     "output_type": "stream",
     "text": [
      "+------+-----+------------+-----------+----------+------------------+--------+-----------------+--------------+---------+---------+----+----+------+-----------------------+---------------------+-------------------------+-------------------+-----------------------+---------------+----+--------+-----+------------------+-------------+----------------+--------------------+-------------+---------+----------------+------+---------+----+----+\n",
      "|word  |count|contributors|coordinates|created_at|display_text_range|entities|extended_entities|favorite_count|favorited|full_text|geo |id  |id_str|in_reply_to_screen_name|in_reply_to_status_id|in_reply_to_status_id_str|in_reply_to_user_id|in_reply_to_user_id_str|is_quote_status|lang|metadata|place|possibly_sensitive|quoted_status|quoted_status_id|quoted_status_id_str|retweet_count|retweeted|retweeted_status|source|truncated|user|date|\n",
      "+------+-----+------------+-----------+----------+------------------+--------+-----------------+--------------+---------+---------+----+----+------+-----------------------+---------------------+-------------------------+-------------------+-----------------------+---------------+----+--------+-----+------------------+-------------+----------------+--------------------+-------------+---------+----------------+------+---------+----+----+\n",
      "|      |1982 |null        |null       |null      |null              |null    |null             |null          |null     |null     |null|null|null  |null                   |null                 |null                     |null               |null                   |null           |null|null    |null |null              |null         |null            |null                |null         |null     |null            |null  |null     |null|null|\n",
      "|gaat  |241  |null        |null       |null      |null              |null    |null             |null          |null     |null     |null|null|null  |null                   |null                 |null                     |null               |null                   |null           |null|null    |null |null              |null         |null            |null                |null         |null     |null            |null  |null     |null|null|\n",
      "|mensen|226  |null        |null       |null      |null              |null    |null             |null          |null     |null     |null|null|null  |null                   |null                 |null                     |null               |null                   |null           |null|null    |null |null              |null         |null            |null                |null         |null     |null            |null  |null     |null|null|\n",
      "|goed  |209  |null        |null       |null      |null              |null    |null             |null          |null     |null     |null|null|null  |null                   |null                 |null                     |null               |null                   |null           |null|null    |null |null              |null         |null            |null                |null         |null     |null            |null  |null     |null|null|\n",
      "|wordt |203  |null        |null       |null      |null              |null    |null             |null          |null     |null     |null|null|null  |null                   |null                 |null                     |null               |null                   |null           |null|null    |null |null              |null         |null            |null                |null         |null     |null            |null  |null     |null|null|\n",
      "|echt  |192  |null        |null       |null      |null              |null    |null             |null          |null     |null     |null|null|null  |null                   |null                 |null                     |null               |null                   |null           |null|null    |null |null              |null         |null            |null                |null         |null     |null            |null  |null     |null|null|\n",
      "|veel  |177  |null        |null       |null      |null              |null    |null             |null          |null     |null     |null|null|null  |null                   |null                 |null                     |null               |null                   |null           |null|null    |null |null              |null         |null            |null                |null         |null     |null            |null  |null     |null|null|\n",
      "|1     |169  |null        |null       |null      |null              |null    |null             |null          |null     |null     |null|null|null  |null                   |null                 |null                     |null               |null                   |null           |null|null    |null |null              |null         |null            |null                |null         |null     |null            |null  |null     |null|null|\n",
      "|eens  |163  |null        |null       |null      |null              |null    |null             |null          |null     |null     |null|null|null  |null                   |null                 |null                     |null               |null                   |null           |null|null    |null |null              |null         |null            |null                |null         |null     |null            |null  |null     |null|null|\n",
      "|hier  |157  |null        |null       |null      |null              |null    |null             |null          |null     |null     |null|null|null  |null                   |null                 |null                     |null               |null                   |null           |null|null    |null |null              |null         |null            |null                |null         |null     |null            |null  |null     |null|null|\n",
      "|gaan  |150  |null        |null       |null      |null              |null    |null             |null          |null     |null     |null|null|null  |null                   |null                 |null                     |null               |null                   |null           |null|null    |null |null              |null         |null            |null                |null         |null     |null            |null  |null     |null|null|\n",
      "|wil   |143  |null        |null       |null      |null              |null    |null             |null          |null     |null     |null|null|null  |null                   |null                 |null                     |null               |null                   |null           |null|null    |null |null              |null         |null            |null                |null         |null     |null            |null  |null     |null|null|\n",
      "|ın    |141  |null        |null       |null      |null              |null    |null             |null          |null     |null     |null|null|null  |null                   |null                 |null                     |null               |null                   |null           |null|null    |null |null              |null         |null            |null                |null         |null     |null            |null  |null     |null|null|\n",
      "|worden|139  |null        |null       |null      |null              |null    |null             |null          |null     |null     |null|null|null  |null                   |null                 |null                     |null               |null                   |null           |null|null    |null |null              |null         |null            |null                |null         |null     |null            |null  |null     |null|null|\n",
      "|heel  |138  |null        |null       |null      |null              |null    |null             |null          |null     |null     |null|null|null  |null                   |null                 |null                     |null               |null                   |null           |null|null    |null |null              |null         |null            |null                |null         |null     |null            |null  |null     |null|null|\n",
      "|nieuwe|131  |null        |null       |null      |null              |null    |null             |null          |null     |null     |null|null|null  |null                   |null                 |null                     |null               |null                   |null           |null|null    |null |null              |null         |null            |null                |null         |null     |null            |null  |null     |null|null|\n",
      "|omg   |131  |null        |null       |null      |null              |null    |null             |null          |null     |null     |null|null|null  |null                   |null                 |null                     |null               |null                   |null           |null|null    |null |null              |null         |null            |null                |null         |null     |null            |null  |null     |null|null|\n",
      "|ja    |124  |null        |null       |null      |null              |null    |null             |null          |null     |null     |null|null|null  |null                   |null                 |null                     |null               |null                   |null           |null|null    |null |null              |null         |null            |null                |null         |null     |null            |null  |null     |null|null|\n",
      "|tegen |122  |null        |null       |null      |null              |null    |null             |null          |null     |null     |null|null|null  |null                   |null                 |null                     |null               |null                   |null           |null|null    |null |null              |null         |null            |null                |null         |null     |null            |null  |null     |null|null|\n",
      "|iets  |121  |null        |null       |null      |null              |null    |null             |null          |null     |null     |null|null|null  |null                   |null                 |null                     |null               |null                   |null           |null|null    |null |null              |null         |null            |null                |null         |null     |null            |null  |null     |null|null|\n",
      "+------+-----+------------+-----------+----------+------------------+--------+-----------------+--------------+---------+---------+----+----+------+-----------------------+---------------------+-------------------------+-------------------+-----------------------+---------------+----+--------+-----+------------------+-------------+----------------+--------------------+-------------+---------+----------------+------+---------+----+----+\n",
      "only showing top 20 rows\n",
      "\n"
     ]
    }
   ],
   "source": [
    "merged_df.show(truncate=False)\n",
    "\n"
   ]
  },
  {
   "cell_type": "code",
   "execution_count": 67,
   "id": "61a74378",
   "metadata": {},
   "outputs": [
    {
     "name": "stdout",
     "output_type": "stream",
     "text": [
      "+------+-----+\n",
      "|  word|count|\n",
      "+------+-----+\n",
      "|      | 1982|\n",
      "|  gaat|  241|\n",
      "|mensen|  226|\n",
      "|  goed|  209|\n",
      "| wordt|  203|\n",
      "|  echt|  192|\n",
      "|  veel|  177|\n",
      "|     1|  169|\n",
      "|  eens|  163|\n",
      "|  hier|  157|\n",
      "|  gaan|  150|\n",
      "|   wil|  143|\n",
      "|    ın|  141|\n",
      "|worden|  139|\n",
      "|  heel|  138|\n",
      "|nieuwe|  131|\n",
      "|   omg|  131|\n",
      "|    ja|  124|\n",
      "| tegen|  122|\n",
      "|  iets|  121|\n",
      "+------+-----+\n",
      "only showing top 20 rows\n",
      "\n"
     ]
    }
   ],
   "source": [
    "#Checking to see if values still present\n",
    "\n",
    "merged_df.select(col(\"word\"), col(\"count\")) \\\n",
    "  .show()"
   ]
  },
  {
   "cell_type": "code",
   "execution_count": 65,
   "id": "a3304922",
   "metadata": {},
   "outputs": [
    {
     "name": "stdout",
     "output_type": "stream",
     "text": [
      "+----------+-----+\n",
      "|      date|count|\n",
      "+----------+-----+\n",
      "|2020-05-29|10000|\n",
      "+----------+-----+\n",
      "\n"
     ]
    }
   ],
   "source": [
    "#\n",
    "merged_df.withColumn('Date', f.explode(f.split(f.col(\"date\"), ' '))) \\\n",
    "  .groupBy('date') \\\n",
    "  .count() \\\n",
    "  .sort('count', ascending=False) \\\n",
    "  .show(200000)"
   ]
  },
  {
   "cell_type": "code",
   "execution_count": 71,
   "id": "1b754762",
   "metadata": {},
   "outputs": [
    {
     "name": "stdout",
     "output_type": "stream",
     "text": [
      "+------+-----+----+\n",
      "|  word|count|date|\n",
      "+------+-----+----+\n",
      "|      | 1982|null|\n",
      "|  gaat|  241|null|\n",
      "|mensen|  226|null|\n",
      "|  goed|  209|null|\n",
      "| wordt|  203|null|\n",
      "|  echt|  192|null|\n",
      "|  veel|  177|null|\n",
      "|     1|  169|null|\n",
      "|  eens|  163|null|\n",
      "|  hier|  157|null|\n",
      "|  gaan|  150|null|\n",
      "|   wil|  143|null|\n",
      "|    ın|  141|null|\n",
      "|worden|  139|null|\n",
      "|  heel|  138|null|\n",
      "|nieuwe|  131|null|\n",
      "|   omg|  131|null|\n",
      "|    ja|  124|null|\n",
      "| tegen|  122|null|\n",
      "|  iets|  121|null|\n",
      "+------+-----+----+\n",
      "only showing top 20 rows\n",
      "\n"
     ]
    }
   ],
   "source": [
    "#cant get them on the same result\n",
    "merged_df.select(col(\"word\"), col(\"count\"),col(\"date\")) \\\n",
    "  .show()"
   ]
  },
  {
   "cell_type": "code",
   "execution_count": null,
   "id": "ed3499b2",
   "metadata": {},
   "outputs": [],
   "source": []
  }
 ],
 "metadata": {
  "kernelspec": {
   "display_name": "Python 3 (ipykernel)",
   "language": "python",
   "name": "python3"
  },
  "language_info": {
   "codemirror_mode": {
    "name": "ipython",
    "version": 3
   },
   "file_extension": ".py",
   "mimetype": "text/x-python",
   "name": "python",
   "nbconvert_exporter": "python",
   "pygments_lexer": "ipython3",
   "version": "3.9.12"
  }
 },
 "nbformat": 4,
 "nbformat_minor": 5
}
